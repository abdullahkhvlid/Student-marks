{
  "nbformat": 4,
  "nbformat_minor": 0,
  "metadata": {
    "colab": {
      "provenance": []
    },
    "kernelspec": {
      "name": "python3",
      "display_name": "Python 3"
    },
    "language_info": {
      "name": "python"
    }
  },
  "cells": [
    {
      "cell_type": "code",
      "execution_count": 1,
      "metadata": {
        "colab": {
          "base_uri": "https://localhost:8080/"
        },
        "id": "FoChu0-iqvAm",
        "outputId": "4afd6fe5-64ec-4995-b2c5-84faa5a7d53b"
      },
      "outputs": [
        {
          "output_type": "stream",
          "name": "stdout",
          "text": [
            "Name of subject1: Chemistry\n",
            "Markssubject1: 78\n",
            "Name of subject2: Physics\n",
            "Markssubject2: 85\n",
            "Name of subject3: English\n",
            "Markssubject3: 92\n",
            "{'Chemistry': 78, 'Physics': 85, 'English': 92}\n",
            "Your percentage is 85.0\n",
            "Your Grade is A\n"
          ]
        }
      ],
      "source": [
        "subjects = [\"Chemistry\", \"Physics\", \"English\"]\n",
        "student= {}\n",
        "marks = []\n",
        "try:\n",
        "  for i in range(1, len(subjects)+1):\n",
        "    name = input(f\"Name of subject{i}: \")\n",
        "    subject = int(input(f\"Markssubject{i}: \"))\n",
        "    student.update({name:subject})\n",
        "    marks.append(subject)\n",
        "\n",
        "  print(student)\n",
        "  per = sum(marks)/len(marks)\n",
        "  print(f\"Your percentage is {per}\")\n",
        "  if per >=79:\n",
        "    print(\"Your Grade is A\")\n",
        "\n",
        "  elif per >=69:\n",
        "    print(\"Your Grade is B\")\n",
        "\n",
        "  elif per >=59:\n",
        "    print(\"Your Grade is C\")\n",
        "\n",
        "  elif per <= 80:\n",
        "    print(\"Your Grade is A1\")\n",
        "\n",
        "  else:\n",
        "    print(\"Your Grade is F\")\n",
        "\n",
        "\n",
        "\n",
        "except ValueError:\n",
        "  print(\"Invalid Value\")\n",
        "\n",
        "\n"
      ]
    },
    {
      "cell_type": "code",
      "source": [],
      "metadata": {
        "id": "W72bn58l2mPC",
        "colab": {
          "base_uri": "https://localhost:8080/"
        },
        "outputId": "66ea1f5b-0978-444f-f10c-d377c13cc05c"
      },
      "execution_count": null,
      "outputs": [
        {
          "output_type": "stream",
          "name": "stdout",
          "text": [
            "sn\n",
            "ps\n",
            "sn\n",
            "pc\n",
            "so\n",
            "pm\n",
            "{'n': 'c', 'o': 'm'}\n"
          ]
        }
      ]
    }
  ]
}